{
 "cells": [
  {
   "cell_type": "markdown",
   "id": "5933e86a",
   "metadata": {},
   "source": [
    "# Neveru Interview Tasks\n",
    "## 09/10/2023\n",
    "## Wesley Ordonez"
   ]
  },
  {
   "cell_type": "code",
   "execution_count": 104,
   "id": "c5312a94",
   "metadata": {},
   "outputs": [],
   "source": [
    "# Importing the necessary libraries\n",
    "import requests\n",
    "import json\n",
    "import csv\n",
    "import pandas as pd\n",
    "import numpy as np\n",
    "import matplotlib.pyplot as plt\n",
    "import seaborn as sns\n",
    "from datetime import datetime"
   ]
  },
  {
   "cell_type": "markdown",
   "id": "0ef9a3da",
   "metadata": {},
   "source": [
    "### Task 1\n",
    "Write a python script that fetches holiday data and saves it to a csv file."
   ]
  },
  {
   "cell_type": "code",
   "execution_count": 19,
   "id": "ee1f73c4",
   "metadata": {},
   "outputs": [],
   "source": [
    "# Testing the API\n",
    "\n",
    "response = requests.get(\"https://date.nager.at/api/v3/AvailableCountries\")\n",
    "data = response.json()\n",
    "countries = pd.DataFrame.from_dict(data)\n",
    "\n",
    "response2 = requests.get(\"https://date.nager.at/api/v3/publicholidays/2024/AT\")\n",
    "data2 = response2.json()\n",
    "test = pd.DataFrame.from_dict(data2)"
   ]
  },
  {
   "cell_type": "code",
   "execution_count": 33,
   "id": "88646c9e",
   "metadata": {},
   "outputs": [
    {
     "name": "stdout",
     "output_type": "stream",
     "text": [
      "<class 'pandas.core.frame.DataFrame'>\n",
      "RangeIndex: 110 entries, 0 to 109\n",
      "Data columns (total 2 columns):\n",
      " #   Column       Non-Null Count  Dtype \n",
      "---  ------       --------------  ----- \n",
      " 0   countryCode  110 non-null    object\n",
      " 1   name         110 non-null    object\n",
      "dtypes: object(2)\n",
      "memory usage: 1.8+ KB\n"
     ]
    },
    {
     "data": {
      "text/html": [
       "<div>\n",
       "<style scoped>\n",
       "    .dataframe tbody tr th:only-of-type {\n",
       "        vertical-align: middle;\n",
       "    }\n",
       "\n",
       "    .dataframe tbody tr th {\n",
       "        vertical-align: top;\n",
       "    }\n",
       "\n",
       "    .dataframe thead th {\n",
       "        text-align: right;\n",
       "    }\n",
       "</style>\n",
       "<table border=\"1\" class=\"dataframe\">\n",
       "  <thead>\n",
       "    <tr style=\"text-align: right;\">\n",
       "      <th></th>\n",
       "      <th>countryCode</th>\n",
       "      <th>name</th>\n",
       "    </tr>\n",
       "  </thead>\n",
       "  <tbody>\n",
       "    <tr>\n",
       "      <th>0</th>\n",
       "      <td>AD</td>\n",
       "      <td>Andorra</td>\n",
       "    </tr>\n",
       "    <tr>\n",
       "      <th>1</th>\n",
       "      <td>AL</td>\n",
       "      <td>Albania</td>\n",
       "    </tr>\n",
       "    <tr>\n",
       "      <th>2</th>\n",
       "      <td>AR</td>\n",
       "      <td>Argentina</td>\n",
       "    </tr>\n",
       "    <tr>\n",
       "      <th>3</th>\n",
       "      <td>AT</td>\n",
       "      <td>Austria</td>\n",
       "    </tr>\n",
       "    <tr>\n",
       "      <th>4</th>\n",
       "      <td>AU</td>\n",
       "      <td>Australia</td>\n",
       "    </tr>\n",
       "  </tbody>\n",
       "</table>\n",
       "</div>"
      ],
      "text/plain": [
       "  countryCode       name\n",
       "0          AD    Andorra\n",
       "1          AL    Albania\n",
       "2          AR  Argentina\n",
       "3          AT    Austria\n",
       "4          AU  Australia"
      ]
     },
     "execution_count": 33,
     "metadata": {},
     "output_type": "execute_result"
    }
   ],
   "source": [
    "countries.info()\n",
    "countries.head()\n",
    "#test.head()"
   ]
  },
  {
   "cell_type": "code",
   "execution_count": 53,
   "id": "a8400086",
   "metadata": {},
   "outputs": [],
   "source": [
    "# Okay, to create a CSV with all the Holidays for 2023/2024 and for every country, I will \n",
    "# make a for loop and call the public holiday for each country in the available countries list and add them \n",
    "# to a single CSV. \n",
    "\n",
    "fullHolidays = pd.DataFrame()\n",
    "\n",
    "for x in countries['countryCode']:\n",
    "    r = requests.get('https://date.nager.at/api/v3/publicholidays/2024/'+ x)\n",
    "    jsonData = r.json()\n",
    "    df = pd.DataFrame.from_dict(jsonData)\n",
    "    fullHolidays = fullHolidays.append(df, ignore_index = True)\n"
   ]
  },
  {
   "cell_type": "code",
   "execution_count": 58,
   "id": "a6603da2",
   "metadata": {},
   "outputs": [],
   "source": [
    "# Now for 2023\n",
    "\n",
    "# Now for 2023\n",
    "for x in countries['countryCode']:\n",
    "    r = requests.get('https://date.nager.at/api/v3/publicholidays/2023/'+ x)\n",
    "    jsonData = r.json()\n",
    "    df = pd.DataFrame.from_dict(jsonData)\n",
    "    fullHolidays = fullHolidays.append(df, ignore_index = True)"
   ]
  },
  {
   "cell_type": "code",
   "execution_count": 59,
   "id": "e647d367",
   "metadata": {},
   "outputs": [
    {
     "name": "stdout",
     "output_type": "stream",
     "text": [
      "<class 'pandas.core.frame.DataFrame'>\n",
      "RangeIndex: 3048 entries, 0 to 3047\n",
      "Data columns (total 9 columns):\n",
      " #   Column       Non-Null Count  Dtype \n",
      "---  ------       --------------  ----- \n",
      " 0   date         3048 non-null   object\n",
      " 1   localName    3048 non-null   object\n",
      " 2   name         3048 non-null   object\n",
      " 3   countryCode  3048 non-null   object\n",
      " 4   fixed        3048 non-null   bool  \n",
      " 5   global       3048 non-null   bool  \n",
      " 6   counties     247 non-null    object\n",
      " 7   launchYear   146 non-null    object\n",
      " 8   types        3048 non-null   object\n",
      "dtypes: bool(2), object(7)\n",
      "memory usage: 172.8+ KB\n"
     ]
    }
   ],
   "source": [
    "fullHolidays.info()"
   ]
  },
  {
   "cell_type": "code",
   "execution_count": 155,
   "id": "2a90e9ac",
   "metadata": {},
   "outputs": [],
   "source": [
    "# Sweet. Now, make it a csv file\n",
    "\n",
    "fullHolidays.to_csv('holidays.csv',index=False)"
   ]
  },
  {
   "cell_type": "markdown",
   "id": "c716ca94",
   "metadata": {},
   "source": [
    "### Task 2\n",
    "Write a python function that returns a list of dictionareis of the next 10 upcoming U.S. holidays and dates"
   ]
  },
  {
   "cell_type": "code",
   "execution_count": 142,
   "id": "c6b271f9",
   "metadata": {},
   "outputs": [],
   "source": [
    "def holidays():\n",
    "    fullHolidays['date'] = pd.to_datetime(fullHolidays['date']) # Turn the date column into a datetime object\n",
    "    tempdf = fullHolidays[fullHolidays.countryCode == 'US'] # Filter out all country codes that aren't US\n",
    "    tempdf = tempdf[tempdf['date']>pd.to_datetime('today')].sort_values('date') # Filter out dates that are before today's date and sort\n",
    "    return tempdf.head(10).to_dict(orient='records')\n",
    "    "
   ]
  },
  {
   "cell_type": "code",
   "execution_count": 143,
   "id": "738257b8",
   "metadata": {},
   "outputs": [
    {
     "data": {
      "text/plain": [
       "[{'date': Timestamp('2023-11-10 00:00:00'),\n",
       "  'localName': 'Veterans Day',\n",
       "  'name': 'Veterans Day',\n",
       "  'countryCode': 'US',\n",
       "  'fixed': False,\n",
       "  'global': True,\n",
       "  'counties': None,\n",
       "  'launchYear': nan,\n",
       "  'types': ['Public']},\n",
       " {'date': Timestamp('2023-11-23 00:00:00'),\n",
       "  'localName': 'Thanksgiving Day',\n",
       "  'name': 'Thanksgiving Day',\n",
       "  'countryCode': 'US',\n",
       "  'fixed': False,\n",
       "  'global': True,\n",
       "  'counties': None,\n",
       "  'launchYear': 1863.0,\n",
       "  'types': ['Public']},\n",
       " {'date': Timestamp('2023-12-25 00:00:00'),\n",
       "  'localName': 'Christmas Day',\n",
       "  'name': 'Christmas Day',\n",
       "  'countryCode': 'US',\n",
       "  'fixed': False,\n",
       "  'global': True,\n",
       "  'counties': None,\n",
       "  'launchYear': nan,\n",
       "  'types': ['Public']},\n",
       " {'date': Timestamp('2024-01-01 00:00:00'),\n",
       "  'localName': \"New Year's Day\",\n",
       "  'name': \"New Year's Day\",\n",
       "  'countryCode': 'US',\n",
       "  'fixed': False,\n",
       "  'global': True,\n",
       "  'counties': None,\n",
       "  'launchYear': nan,\n",
       "  'types': ['Public']},\n",
       " {'date': Timestamp('2024-01-15 00:00:00'),\n",
       "  'localName': 'Martin Luther King, Jr. Day',\n",
       "  'name': 'Martin Luther King, Jr. Day',\n",
       "  'countryCode': 'US',\n",
       "  'fixed': False,\n",
       "  'global': True,\n",
       "  'counties': None,\n",
       "  'launchYear': nan,\n",
       "  'types': ['Public']},\n",
       " {'date': Timestamp('2024-02-19 00:00:00'),\n",
       "  'localName': 'Presidents Day',\n",
       "  'name': \"Washington's Birthday\",\n",
       "  'countryCode': 'US',\n",
       "  'fixed': False,\n",
       "  'global': True,\n",
       "  'counties': None,\n",
       "  'launchYear': nan,\n",
       "  'types': ['Public']},\n",
       " {'date': Timestamp('2024-03-29 00:00:00'),\n",
       "  'localName': 'Good Friday',\n",
       "  'name': 'Good Friday',\n",
       "  'countryCode': 'US',\n",
       "  'fixed': False,\n",
       "  'global': False,\n",
       "  'counties': ['US-CT',\n",
       "   'US-DE',\n",
       "   'US-HI',\n",
       "   'US-IN',\n",
       "   'US-KY',\n",
       "   'US-LA',\n",
       "   'US-NC',\n",
       "   'US-ND',\n",
       "   'US-NJ',\n",
       "   'US-TN'],\n",
       "  'launchYear': nan,\n",
       "  'types': ['Public']},\n",
       " {'date': Timestamp('2024-03-29 00:00:00'),\n",
       "  'localName': 'Good Friday',\n",
       "  'name': 'Good Friday',\n",
       "  'countryCode': 'US',\n",
       "  'fixed': False,\n",
       "  'global': False,\n",
       "  'counties': ['US-TX'],\n",
       "  'launchYear': nan,\n",
       "  'types': ['Optional']},\n",
       " {'date': Timestamp('2024-05-27 00:00:00'),\n",
       "  'localName': 'Memorial Day',\n",
       "  'name': 'Memorial Day',\n",
       "  'countryCode': 'US',\n",
       "  'fixed': False,\n",
       "  'global': True,\n",
       "  'counties': None,\n",
       "  'launchYear': nan,\n",
       "  'types': ['Public']},\n",
       " {'date': Timestamp('2024-06-19 00:00:00'),\n",
       "  'localName': 'Juneteenth',\n",
       "  'name': 'Juneteenth',\n",
       "  'countryCode': 'US',\n",
       "  'fixed': False,\n",
       "  'global': True,\n",
       "  'counties': None,\n",
       "  'launchYear': 2021.0,\n",
       "  'types': ['Public']}]"
      ]
     },
     "execution_count": 143,
     "metadata": {},
     "output_type": "execute_result"
    }
   ],
   "source": [
    "holidays()"
   ]
  },
  {
   "cell_type": "markdown",
   "id": "9c807593",
   "metadata": {},
   "source": [
    "### Task 3\n",
    "Add keyword argument \"global\" to function\n"
   ]
  },
  {
   "cell_type": "code",
   "execution_count": 161,
   "id": "abc3ba68",
   "metadata": {},
   "outputs": [],
   "source": [
    "def holidays(x):\n",
    "    fullHolidays['date'] = pd.to_datetime(fullHolidays['date']) # Turn the date column into a datetime object\n",
    "    tempdf = fullHolidays[fullHolidays.countryCode == 'US'] # Filter out all country codes that aren't US\n",
    "    tempdf = tempdf[tempdf['date']>pd.to_datetime('today')].sort_values('date') # Filter out dates that are before today's date and sort\n",
    "    # Here I added a conditional to filter out the global column based off the functions argument.\n",
    "    if x == False:\n",
    "        tempdf = tempdf[tempdf['global'] == False]\n",
    "        return tempdf.head(10).to_dict(orient='records')\n",
    "    else:\n",
    "        return tempdf.head(10).to_dict(orient='records')"
   ]
  },
  {
   "cell_type": "code",
   "execution_count": 162,
   "id": "4b4b4ba1",
   "metadata": {},
   "outputs": [
    {
     "data": {
      "text/plain": [
       "[{'date': Timestamp('2024-03-29 00:00:00'),\n",
       "  'localName': 'Good Friday',\n",
       "  'name': 'Good Friday',\n",
       "  'countryCode': 'US',\n",
       "  'fixed': False,\n",
       "  'global': False,\n",
       "  'counties': ['US-CT',\n",
       "   'US-DE',\n",
       "   'US-HI',\n",
       "   'US-IN',\n",
       "   'US-KY',\n",
       "   'US-LA',\n",
       "   'US-NC',\n",
       "   'US-ND',\n",
       "   'US-NJ',\n",
       "   'US-TN'],\n",
       "  'launchYear': nan,\n",
       "  'types': ['Public']},\n",
       " {'date': Timestamp('2024-03-29 00:00:00'),\n",
       "  'localName': 'Good Friday',\n",
       "  'name': 'Good Friday',\n",
       "  'countryCode': 'US',\n",
       "  'fixed': False,\n",
       "  'global': False,\n",
       "  'counties': ['US-TX'],\n",
       "  'launchYear': nan,\n",
       "  'types': ['Optional']},\n",
       " {'date': Timestamp('2024-10-14 00:00:00'),\n",
       "  'localName': 'Columbus Day',\n",
       "  'name': 'Columbus Day',\n",
       "  'countryCode': 'US',\n",
       "  'fixed': False,\n",
       "  'global': False,\n",
       "  'counties': ['US-AL',\n",
       "   'US-AZ',\n",
       "   'US-CO',\n",
       "   'US-CT',\n",
       "   'US-GA',\n",
       "   'US-ID',\n",
       "   'US-IL',\n",
       "   'US-IN',\n",
       "   'US-IA',\n",
       "   'US-KS',\n",
       "   'US-KY',\n",
       "   'US-LA',\n",
       "   'US-ME',\n",
       "   'US-MD',\n",
       "   'US-MA',\n",
       "   'US-MS',\n",
       "   'US-MO',\n",
       "   'US-MT',\n",
       "   'US-NE',\n",
       "   'US-NH',\n",
       "   'US-NJ',\n",
       "   'US-NM',\n",
       "   'US-NY',\n",
       "   'US-NC',\n",
       "   'US-OH',\n",
       "   'US-OK',\n",
       "   'US-PA',\n",
       "   'US-RI',\n",
       "   'US-SC',\n",
       "   'US-TN',\n",
       "   'US-UT',\n",
       "   'US-VA',\n",
       "   'US-WV'],\n",
       "  'launchYear': nan,\n",
       "  'types': ['Public']}]"
      ]
     },
     "execution_count": 162,
     "metadata": {},
     "output_type": "execute_result"
    }
   ],
   "source": [
    "holidays(False)"
   ]
  },
  {
   "cell_type": "markdown",
   "id": "cd87687e",
   "metadata": {},
   "source": [
    "### Task 4\n",
    "Add an additional keyword argument \"comparison_country\""
   ]
  },
  {
   "cell_type": "code",
   "execution_count": 185,
   "id": "f71b1f84",
   "metadata": {},
   "outputs": [],
   "source": [
    "def holidays(x,y):\n",
    "    fullHolidays['date'] = pd.to_datetime(fullHolidays['date']) # Turn the date column into a datetime object\n",
    "    countrydf = fullHolidays[fullHolidays.countryCode == y] # Get holidays for country \"y\"\n",
    "    tempdf = fullHolidays[fullHolidays.countryCode == 'US'] # Filter out all country codes that aren't US\n",
    "    tempdf = tempdf[tempdf['date']>pd.to_datetime('today')].sort_values('date') # Filter out dates that are before today's date and sort\n",
    "    # Here I added a conditional to filter out the global column based off the functions argument.\n",
    "    if x == False:\n",
    "        tempdf = tempdf[tempdf['global'] == False]\n",
    "        return tempdf.head(10).to_dict(orient='records')\n",
    "    else:\n",
    "        # Here I am merging both dataframes as long as they have the same Holiday name and date \n",
    "        mergeddf = pd.merge(tempdf, countrydf, on=['date','name'], how='inner')\n",
    "        return mergeddf.head(10).to_dict(orient='records')"
   ]
  },
  {
   "cell_type": "code",
   "execution_count": 186,
   "id": "bb5d39f9",
   "metadata": {},
   "outputs": [
    {
     "data": {
      "text/plain": [
       "[{'date': Timestamp('2023-12-25 00:00:00'),\n",
       "  'localName_x': 'Christmas Day',\n",
       "  'name': 'Christmas Day',\n",
       "  'countryCode_x': 'US',\n",
       "  'fixed_x': False,\n",
       "  'global_x': True,\n",
       "  'counties_x': None,\n",
       "  'launchYear_x': nan,\n",
       "  'types_x': ['Public'],\n",
       "  'localName_y': 'Noël',\n",
       "  'countryCode_y': 'FR',\n",
       "  'fixed_y': True,\n",
       "  'global_y': True,\n",
       "  'counties_y': None,\n",
       "  'launchYear_y': nan,\n",
       "  'types_y': ['Public']},\n",
       " {'date': Timestamp('2024-01-01 00:00:00'),\n",
       "  'localName_x': \"New Year's Day\",\n",
       "  'name': \"New Year's Day\",\n",
       "  'countryCode_x': 'US',\n",
       "  'fixed_x': False,\n",
       "  'global_x': True,\n",
       "  'counties_x': None,\n",
       "  'launchYear_x': nan,\n",
       "  'types_x': ['Public'],\n",
       "  'localName_y': \"Jour de l'an\",\n",
       "  'countryCode_y': 'FR',\n",
       "  'fixed_y': True,\n",
       "  'global_y': True,\n",
       "  'counties_y': None,\n",
       "  'launchYear_y': 1967.0,\n",
       "  'types_y': ['Public']},\n",
       " {'date': Timestamp('2024-12-25 00:00:00'),\n",
       "  'localName_x': 'Christmas Day',\n",
       "  'name': 'Christmas Day',\n",
       "  'countryCode_x': 'US',\n",
       "  'fixed_x': False,\n",
       "  'global_x': True,\n",
       "  'counties_x': None,\n",
       "  'launchYear_x': nan,\n",
       "  'types_x': ['Public'],\n",
       "  'localName_y': 'Noël',\n",
       "  'countryCode_y': 'FR',\n",
       "  'fixed_y': True,\n",
       "  'global_y': True,\n",
       "  'counties_y': None,\n",
       "  'launchYear_y': nan,\n",
       "  'types_y': ['Public']}]"
      ]
     },
     "execution_count": 186,
     "metadata": {},
     "output_type": "execute_result"
    }
   ],
   "source": [
    "holidays(True,\"FR\")"
   ]
  },
  {
   "cell_type": "markdown",
   "id": "8712af4e",
   "metadata": {},
   "source": [
    "### Task 5\n",
    "Write a function that lists dictionaries of the top 10 countries ranked by the number of upcoming holiday dates"
   ]
  },
  {
   "cell_type": "code",
   "execution_count": 231,
   "id": "8bd3fb91",
   "metadata": {},
   "outputs": [],
   "source": [
    "def most_common_countries(comparison_country):\n",
    "    # I will create a new data frame using the argument country code\n",
    "    countrydf = fullHolidays[fullHolidays.countryCode == comparison_country] # Get holidays for country \"y\"\n",
    "    # Next I'll merge fullHolidays dataframe based on the dates. THis should result in a dataframe of holidays\n",
    "    # that share a date with the holidays of the comparison country.\n",
    "    mergeddf = pd.merge(countrydf, fullHolidays, on = 'date', how = 'inner')\n",
    "    # Now I'll filter out any dates that are before today and sort in in asceding order\n",
    "    mergeddf = mergeddf[mergeddf['date']>pd.to_datetime('today')].sort_values('date')\n",
    "    # Now I need to drop duplicate rows since fullHolidays dataframe also includes the comparison country\n",
    "    mergeddf = mergeddf.drop(mergeddf[mergeddf.countryCode_y == comparison_country].index)\n",
    "    # Finally, I will count unique values in countryCode of the merged columns and return the top 10 and their count\n",
    "    return mergeddf['countryCode_y'].value_counts().head(10).to_dict()\n",
    "\n"
   ]
  },
  {
   "cell_type": "code",
   "execution_count": 234,
   "id": "54e7806c",
   "metadata": {},
   "outputs": [
    {
     "data": {
      "text/plain": [
       "{'PR': 15,\n",
       " 'CA': 13,\n",
       " 'PA': 7,\n",
       " 'CO': 7,\n",
       " 'UY': 6,\n",
       " 'AR': 6,\n",
       " 'GI': 6,\n",
       " 'GG': 6,\n",
       " 'AU': 6,\n",
       " 'GB': 6}"
      ]
     },
     "execution_count": 234,
     "metadata": {},
     "output_type": "execute_result"
    }
   ],
   "source": [
    "most_common_countries('US')"
   ]
  },
  {
   "cell_type": "code",
   "execution_count": 242,
   "id": "8529f433",
   "metadata": {},
   "outputs": [],
   "source": [
    "# I'd like to fix the output to show full country names and actually list out the dictionary\n",
    "\n",
    "outputdf = most_common_countries('US') # test purpose\n",
    "dictList = []\n",
    "for i, (country,count) in enumerate(outputdf.items(),1):\n",
    "    dictList.append({\n",
    "        'Country': country,\n",
    "        'Number of Shared Holidays' : count,\n",
    "        'Rank' : i\n",
    "    })\n",
    "    \n",
    "# Something else, I could do is call the first countries dataframe that lists the available countries and respective\n",
    "# codes available in the API, so the output list shows the full name not just the country code. \n",
    "# Also, the ranking is more of just the index since the output of the function is already in order and it doesn't\n",
    "# account for countries with the same count."
   ]
  },
  {
   "cell_type": "code",
   "execution_count": 243,
   "id": "8765aad1",
   "metadata": {},
   "outputs": [
    {
     "data": {
      "text/plain": [
       "[{'Country': 'PR', 'Number of Shared Holidays': 15, 'Rank': 1},\n",
       " {'Country': 'CA', 'Number of Shared Holidays': 13, 'Rank': 2},\n",
       " {'Country': 'PA', 'Number of Shared Holidays': 7, 'Rank': 3},\n",
       " {'Country': 'CO', 'Number of Shared Holidays': 7, 'Rank': 4},\n",
       " {'Country': 'UY', 'Number of Shared Holidays': 6, 'Rank': 5},\n",
       " {'Country': 'AR', 'Number of Shared Holidays': 6, 'Rank': 6},\n",
       " {'Country': 'GI', 'Number of Shared Holidays': 6, 'Rank': 7},\n",
       " {'Country': 'GG', 'Number of Shared Holidays': 6, 'Rank': 8},\n",
       " {'Country': 'AU', 'Number of Shared Holidays': 6, 'Rank': 9},\n",
       " {'Country': 'GB', 'Number of Shared Holidays': 6, 'Rank': 10}]"
      ]
     },
     "execution_count": 243,
     "metadata": {},
     "output_type": "execute_result"
    }
   ],
   "source": [
    "\n",
    "dictList"
   ]
  },
  {
   "cell_type": "code",
   "execution_count": null,
   "id": "62323312",
   "metadata": {},
   "outputs": [],
   "source": []
  }
 ],
 "metadata": {
  "kernelspec": {
   "display_name": "Python 3 (ipykernel)",
   "language": "python",
   "name": "python3"
  },
  "language_info": {
   "codemirror_mode": {
    "name": "ipython",
    "version": 3
   },
   "file_extension": ".py",
   "mimetype": "text/x-python",
   "name": "python",
   "nbconvert_exporter": "python",
   "pygments_lexer": "ipython3",
   "version": "3.9.7"
  }
 },
 "nbformat": 4,
 "nbformat_minor": 5
}
